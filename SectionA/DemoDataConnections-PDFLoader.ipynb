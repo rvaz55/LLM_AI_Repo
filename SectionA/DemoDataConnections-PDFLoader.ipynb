{
 "cells": [
  {
   "cell_type": "code",
   "execution_count": null,
   "id": "77a8a035-ab38-4f06-9cfe-daeff63cdddc",
   "metadata": {},
   "outputs": [],
   "source": [
    "#In this exercise we use the PyPdf to load the contents of an PDF file:\n",
    "\n",
    "#Install PyPDF and lxml via running the command line below in a terminal:\n",
    "#pip3 install pypdf\n",
    "\n",
    "#Other notable info:\n",
    "#When working with PDF files in Python, remember that the loader (PyPDFLoader) may misintererpret \n",
    "#data and throw an 'error'. For example, PyPDFLoader may see an image in a PDF and may not know how to\n",
    "#interpret that so it throws an 'error'.\n",
    "#If ^that's the case, then try another PDFReader loader-package\n",
    "\n",
    "#To use a DocumentLoader you must first import the class from LangChain:\n",
    "from langchain.document_loaders import PyPDFLoader "
   ]
  },
  {
   "cell_type": "code",
   "execution_count": null,
   "id": "ebdc432a-486b-4058-933b-6be5d4bba354",
   "metadata": {},
   "outputs": [],
   "source": [
    "loader = PyPDFLoader(\"../Section3Demo-DataConnections/SomeData/SomeReport.pdf\")"
   ]
  },
  {
   "cell_type": "code",
   "execution_count": null,
   "id": "d6db34bb-8220-4693-a3b3-45ce00e1408a",
   "metadata": {},
   "outputs": [],
   "source": [
    "pages = loader.load()"
   ]
  },
  {
   "cell_type": "code",
   "execution_count": null,
   "id": "e04b2717-8225-428c-810a-8bba03f697ca",
   "metadata": {},
   "outputs": [],
   "source": [
    "#The line below shows an example of an 'error' cause by the loader misinterrpreting the PDF\n",
    "#The loader thinks that all words are followed by a new line - and if you see the PDF, that is not the case\n",
    "pages[0]"
   ]
  },
  {
   "cell_type": "code",
   "execution_count": null,
   "id": "b46e6a01-9c42-4a6f-b28e-21a2ae5bdc2c",
   "metadata": {},
   "outputs": [],
   "source": [
    "print(pages[0].page_content)"
   ]
  },
  {
   "cell_type": "code",
   "execution_count": null,
   "id": "cc379c33-1672-47c9-9a0a-b71f1fdab636",
   "metadata": {},
   "outputs": [],
   "source": [
    "#A fix to the error seen in cell #8 is written below\n",
    "print(pages[0].page_content.replace('\\n', ' '))"
   ]
  },
  {
   "cell_type": "code",
   "execution_count": null,
   "id": "6517bc00-3e04-46d7-bec4-677efb0a4c50",
   "metadata": {},
   "outputs": [],
   "source": []
  }
 ],
 "metadata": {
  "kernelspec": {
   "display_name": "Python 3 (ipykernel)",
   "language": "python",
   "name": "python3"
  },
  "language_info": {
   "codemirror_mode": {
    "name": "ipython",
    "version": 3
   },
   "file_extension": ".py",
   "mimetype": "text/x-python",
   "name": "python",
   "nbconvert_exporter": "python",
   "pygments_lexer": "ipython3",
   "version": "3.11.6"
  }
 },
 "nbformat": 4,
 "nbformat_minor": 5
}
