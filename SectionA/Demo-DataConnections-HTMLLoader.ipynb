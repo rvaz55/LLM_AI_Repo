{
 "cells": [
  {
   "cell_type": "code",
   "execution_count": 1,
   "id": "9ce886a0-5d92-4d55-8695-4cd82d427982",
   "metadata": {},
   "outputs": [],
   "source": [
    "#In this exercise we use the BSHTMLLoader to load the contents of an HTML file:\n",
    "\n",
    "#Install beautifulsoup4 and lxml via running the command line below in a terminalab\n",
    "#pip3 install beautifulsoup4\n",
    "#pip3 install lxml\n",
    "\n",
    "#To use a DocumentLoader you must first import the class from LangChain:\n",
    "from langchain.document_loaders import BSHTMLLoader "
   ]
  },
  {
   "cell_type": "code",
   "execution_count": 7,
   "id": "082796f7-7ef5-442c-89e8-5ae90feb1862",
   "metadata": {},
   "outputs": [],
   "source": [
    "loader = BSHTMLLoader(\"../Section3Demo-DataConnections/SomeData/some_website.html\")"
   ]
  },
  {
   "cell_type": "code",
   "execution_count": 8,
   "id": "1e67a8da-9bc6-4747-8fe4-8c0b0c88dfb3",
   "metadata": {},
   "outputs": [],
   "source": [
    "data = loader.load()"
   ]
  },
  {
   "cell_type": "code",
   "execution_count": 9,
   "id": "da6a9af8-99f2-4d53-914a-c56d8db27b8a",
   "metadata": {},
   "outputs": [
    {
     "data": {
      "text/plain": [
       "Document(page_content='Heading 1', metadata={'source': '../Section3Demo-DataConnections/SomeData/some_website.html', 'title': ''})"
      ]
     },
     "execution_count": 9,
     "metadata": {},
     "output_type": "execute_result"
    }
   ],
   "source": [
    "data[0]"
   ]
  },
  {
   "cell_type": "code",
   "execution_count": 10,
   "id": "ed989787-0d96-4555-b23e-ad41f22322e9",
   "metadata": {},
   "outputs": [
    {
     "data": {
      "text/plain": [
       "'Heading 1'"
      ]
     },
     "execution_count": 10,
     "metadata": {},
     "output_type": "execute_result"
    }
   ],
   "source": [
    "data[0].page_content"
   ]
  },
  {
   "cell_type": "code",
   "execution_count": null,
   "id": "ab0ecc74-39a2-4203-9168-631b69749adc",
   "metadata": {},
   "outputs": [],
   "source": []
  },
  {
   "cell_type": "code",
   "execution_count": null,
   "id": "bb9e7e08-0a92-4d09-b362-dd95d9c2133e",
   "metadata": {},
   "outputs": [],
   "source": []
  },
  {
   "cell_type": "code",
   "execution_count": null,
   "id": "957da142-0478-47d7-967d-5cf5f2ca5812",
   "metadata": {},
   "outputs": [],
   "source": []
  }
 ],
 "metadata": {
  "kernelspec": {
   "display_name": "Python 3 (ipykernel)",
   "language": "python",
   "name": "python3"
  },
  "language_info": {
   "codemirror_mode": {
    "name": "ipython",
    "version": 3
   },
   "file_extension": ".py",
   "mimetype": "text/x-python",
   "name": "python",
   "nbconvert_exporter": "python",
   "pygments_lexer": "ipython3",
   "version": "3.11.6"
  }
 },
 "nbformat": 4,
 "nbformat_minor": 5
}
