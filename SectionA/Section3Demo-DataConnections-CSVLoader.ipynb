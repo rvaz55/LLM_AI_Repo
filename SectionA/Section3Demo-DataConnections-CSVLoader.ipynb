{
 "cells": [
  {
   "cell_type": "code",
   "execution_count": null,
   "id": "d371174b-9f07-4fc0-a404-09a47e161822",
   "metadata": {},
   "outputs": [],
   "source": [
    "#In this exercise we use the CSVLoader to load the contents of a CSV file:\n",
    "\n",
    "\n",
    "#To use a DocumentLoader you must first import the class from LangChain:\n",
    "from langchain.document_loaders import CSVLoader "
   ]
  },
  {
   "cell_type": "code",
   "execution_count": null,
   "id": "b3bd031d-6f90-4695-a347-d4f30c2c892a",
   "metadata": {},
   "outputs": [],
   "source": [
    "#Create an instace of 'loader'\n",
    "loader = CSVLoader(\"../Section3Demo-DataConnections/SomeData/penguins.csv\")\n",
    "#Section3Demo-DataConnections/SomeData/penguins.csv\")"
   ]
  },
  {
   "cell_type": "code",
   "execution_count": null,
   "id": "9b1d49b7-a078-4618-9bc3-92e381feba3d",
   "metadata": {},
   "outputs": [],
   "source": [
    "#then the loader is triggered when the .load() method is called\n",
    "#said method, creates a 'data' object that is really just a list of python objects\n",
    "data = loader.load()"
   ]
  },
  {
   "cell_type": "code",
   "execution_count": null,
   "id": "6a37d5b4-1adf-41ef-b7a7-14df11691a97",
   "metadata": {},
   "outputs": [],
   "source": [
    "#To see the type-of objects the 'data' object contains call a type() method\n",
    "type(data[0])"
   ]
  },
  {
   "cell_type": "code",
   "execution_count": null,
   "id": "3ca2414c-f644-4721-a2e0-d708a73f8ee3",
   "metadata": {},
   "outputs": [],
   "source": [
    "#To see the data\n",
    "data"
   ]
  },
  {
   "cell_type": "code",
   "execution_count": null,
   "id": "82b0106d-f8f6-4244-8221-1096f743fec0",
   "metadata": {},
   "outputs": [],
   "source": [
    "#To see an object within data\n",
    "data[0]"
   ]
  },
  {
   "cell_type": "code",
   "execution_count": null,
   "id": "1cd64e2f-867f-4397-baf4-ee5e7c5afddc",
   "metadata": {},
   "outputs": [],
   "source": [
    "#To see the contents of a single record within data\n",
    "print(data[2].page_content)"
   ]
  },
  {
   "cell_type": "code",
   "execution_count": null,
   "id": "a901a997-8084-45ac-b4fb-56f54daca22d",
   "metadata": {},
   "outputs": [],
   "source": [
    "#To see the metadata, uncomment and run this line \n",
    "#print(data[2].metadata)"
   ]
  },
  {
   "cell_type": "code",
   "execution_count": null,
   "id": "1bfd26fc-683a-4b51-894b-0656aea89400",
   "metadata": {},
   "outputs": [],
   "source": []
  },
  {
   "cell_type": "code",
   "execution_count": null,
   "id": "87362e29-5a0c-478c-b8cc-0ea265852c82",
   "metadata": {},
   "outputs": [],
   "source": []
  },
  {
   "cell_type": "code",
   "execution_count": null,
   "id": "a5bb4ea4-e3b3-4f04-8ae5-bd28e39a49c5",
   "metadata": {},
   "outputs": [],
   "source": []
  }
 ],
 "metadata": {
  "kernelspec": {
   "display_name": "Python 3 (ipykernel)",
   "language": "python",
   "name": "python3"
  },
  "language_info": {
   "codemirror_mode": {
    "name": "ipython",
    "version": 3
   },
   "file_extension": ".py",
   "mimetype": "text/x-python",
   "name": "python",
   "nbconvert_exporter": "python",
   "pygments_lexer": "ipython3",
   "version": "3.11.6"
  }
 },
 "nbformat": 4,
 "nbformat_minor": 5
}
