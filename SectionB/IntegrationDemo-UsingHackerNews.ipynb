{
 "cells": [
  {
   "cell_type": "code",
   "execution_count": 1,
   "id": "c18904f0-3108-4144-8132-e3caffe4666d",
   "metadata": {},
   "outputs": [],
   "source": [
    "#Use the 'os' module in Python to access the OperatingSystem and retrieve the API_KEY\n",
    "#More info on the OS module: https://docs.python.org/3/library/os.html\n",
    "#Create temporary EnvVar: Link explaining how to creat new environment vars: https://www.geeksforgeeks.org/python-os-environ-object/#\n",
    "#Persistent envir_var: use the .env file and then add it to .gitignore\n",
    "\n",
    "from dotenv import load_dotenv\n",
    "\n",
    "# Load the .env file\n",
    "load_dotenv()\n",
    "\n",
    "# Now you can access the variables\n",
    "import os\n",
    "OPENAPI_AI_KEY = os.getenv('OPENAI_API_KEY')\n",
    "\n",
    "#print(f'OPENAPI_AI_KEY: {OPENAPI_AI_KEY}')"
   ]
  },
  {
   "cell_type": "code",
   "execution_count": 2,
   "id": "f17adf93-bbe5-4d52-abb9-5bb6b2c5a690",
   "metadata": {
    "editable": true,
    "slideshow": {
     "slide_type": ""
    },
    "tags": []
   },
   "outputs": [],
   "source": [
    "#In this exercise we use the HNLoader to load the comments made on a post:\n",
    "\n",
    "#To use a HNLoader you must first import the class from LangChain:\n",
    "from langchain.document_loaders import HNLoader"
   ]
  },
  {
   "cell_type": "code",
   "execution_count": 3,
   "id": "4a439f85-eea5-46b7-ae48-9e843dfcb053",
   "metadata": {
    "editable": true,
    "slideshow": {
     "slide_type": ""
    },
    "tags": []
   },
   "outputs": [],
   "source": [
    "#For HNLoader we need to pass in the URL of a Hacker-New's comment-page\n",
    "\n",
    "loader = HNLoader(\"https://news.ycombinator.com/item?id=38793206\")"
   ]
  },
  {
   "cell_type": "code",
   "execution_count": 4,
   "id": "f86144c3-52b0-40f9-9545-51fb1f86f536",
   "metadata": {
    "editable": true,
    "slideshow": {
     "slide_type": ""
    },
    "tags": []
   },
   "outputs": [],
   "source": [
    "#Here the comments are loaded into the 'data' object\n",
    "data = loader.load()"
   ]
  },
  {
   "cell_type": "code",
   "execution_count": 5,
   "id": "15fca496-212b-48d9-8bba-9d73f0c07aa6",
   "metadata": {
    "editable": true,
    "slideshow": {
     "slide_type": ""
    },
    "tags": []
   },
   "outputs": [],
   "source": [
    "#View contents of the first comment\n",
    "#print(data)\n",
    "\n"
   ]
  },
  {
   "cell_type": "code",
   "execution_count": 6,
   "id": "1a4cd10f-ebe6-4858-971e-34c6f5a2e570",
   "metadata": {
    "editable": true,
    "slideshow": {
     "slide_type": ""
    },
    "tags": []
   },
   "outputs": [
    {
     "name": "stdout",
     "output_type": "stream",
     "text": [
      "{'source': 'https://news.ycombinator.com/item?id=38793206', 'title': 'Cold-blooded software'}\n"
     ]
    }
   ],
   "source": [
    "#The metadata contains the URL-Source and the title of the post\n",
    "print(data[0].metadata)"
   ]
  },
  {
   "cell_type": "code",
   "execution_count": 7,
   "id": "f319436b-6fad-4e14-b09d-67e785f73e7a",
   "metadata": {
    "editable": true,
    "slideshow": {
     "slide_type": ""
    },
    "tags": []
   },
   "outputs": [],
   "source": [
    "#Combine HNLoader with a model call using the 'human-to-chat' template and the 'chat-prompt chat' template.\n",
    "\n",
    "from langchain.prompts import ChatPromptTemplate, HumanMessagePromptTemplate\n"
   ]
  },
  {
   "cell_type": "code",
   "execution_count": 8,
   "id": "da09077d-882b-458b-9cc5-3dd74641a26f",
   "metadata": {
    "editable": true,
    "slideshow": {
     "slide_type": ""
    },
    "tags": []
   },
   "outputs": [],
   "source": [
    "#Also need to import models from LangChain\n",
    "from langchain.chat_models import ChatOpenAI"
   ]
  },
  {
   "cell_type": "code",
   "execution_count": 9,
   "id": "02ef49d0-ee5e-4ab9-987a-14ac277e4d7b",
   "metadata": {
    "editable": true,
    "slideshow": {
     "slide_type": ""
    },
    "tags": []
   },
   "outputs": [],
   "source": [
    "#Create instance of the human prompt\n",
    "#human_prompt = HumanMessagePromptTemplate.from_template(\"Please give me a short summary of the following HackerNews comment: \\n {comment}\")\n",
    "\n",
    "\n",
    "human_prompt = HumanMessagePromptTemplate.from_template(\"Please give me a short summary explaining the recurrent points made in the comments: \\n {comment}. \")\n",
    "\n",
    "\n",
    "\n"
   ]
  },
  {
   "cell_type": "code",
   "execution_count": 10,
   "id": "363d2aba-35e6-4cf5-8213-0e5e0851104d",
   "metadata": {
    "editable": true,
    "slideshow": {
     "slide_type": ""
    },
    "tags": []
   },
   "outputs": [],
   "source": [
    "#Then create instance of the chat prompt and pass in the human_prompt\n",
    "chat_prompt = ChatPromptTemplate.from_messages([human_prompt])"
   ]
  },
  {
   "cell_type": "code",
   "execution_count": 11,
   "id": "bd8a77a7-afa8-40be-b8cc-73de9f027d90",
   "metadata": {
    "editable": true,
    "slideshow": {
     "slide_type": ""
    },
    "tags": []
   },
   "outputs": [],
   "source": [
    "#Then create instance of an OpenAI chat-model\n",
    "#Docs on ChatOpenAI() are: https://python.langchain.com/docs/integrations/chat/openai\n",
    "model = ChatOpenAI(api_key=OPENAPI_AI_KEY)"
   ]
  },
  {
   "cell_type": "code",
   "execution_count": 12,
   "id": "e3de5fda-9694-40d3-bf63-b81388272e0d",
   "metadata": {
    "editable": true,
    "slideshow": {
     "slide_type": ""
    },
    "tags": []
   },
   "outputs": [],
   "source": [
    "#Pass in the chat-prompt to the model. Then format the chat-prompt and store the output within a 'result' var\n",
    "result = model(chat_prompt.format_prompt(comment = data[0].page_content).to_messages())"
   ]
  },
  {
   "cell_type": "code",
   "execution_count": 13,
   "id": "8c56c01a-42a9-40c5-ae23-a4fb5ebcd97d",
   "metadata": {
    "editable": true,
    "slideshow": {
     "slide_type": ""
    },
    "tags": []
   },
   "outputs": [
    {
     "data": {
      "text/plain": [
       "'In the comments, the main recurrent points are:\\n\\n1. Python is not a good example of stable software because it has constant breaking changes in both runtime and tooling.\\n2. The author still has to use Python 2, which has reached its end of life, indicating the lack of backwards compatibility.\\n3. Other programming languages like Go or Java are better examples of maintaining compatibility over time, as code written 10 years ago still runs fine with modern tooling.\\n4. Perl is mentioned as an even better example, as code written 30 years ago still runs without issues.'"
      ]
     },
     "execution_count": 13,
     "metadata": {},
     "output_type": "execute_result"
    }
   ],
   "source": [
    "#Then ask the OpenAI model to resolve the request written on line 17\n",
    "result.content"
   ]
  },
  {
   "cell_type": "code",
   "execution_count": null,
   "id": "c410fd91-8a51-4826-8afd-542028fa3a6d",
   "metadata": {
    "editable": true,
    "slideshow": {
     "slide_type": ""
    },
    "tags": []
   },
   "outputs": [],
   "source": []
  },
  {
   "cell_type": "code",
   "execution_count": null,
   "id": "e84c32ae-cb50-42ca-ad36-a4410546ed0a",
   "metadata": {},
   "outputs": [],
   "source": []
  },
  {
   "cell_type": "code",
   "execution_count": null,
   "id": "850efa20-7678-403f-bc8f-81c274f64835",
   "metadata": {},
   "outputs": [],
   "source": []
  },
  {
   "cell_type": "code",
   "execution_count": null,
   "id": "8898037e-a22c-4701-a05c-668fda4232fd",
   "metadata": {},
   "outputs": [],
   "source": []
  },
  {
   "cell_type": "code",
   "execution_count": null,
   "id": "306a8119-4139-4f2a-a618-544c82179290",
   "metadata": {},
   "outputs": [],
   "source": []
  },
  {
   "cell_type": "code",
   "execution_count": null,
   "id": "dfb038a0-9ddb-45dc-a870-f896c4a957ac",
   "metadata": {},
   "outputs": [],
   "source": []
  }
 ],
 "metadata": {
  "kernelspec": {
   "display_name": "Python 3 (ipykernel)",
   "language": "python",
   "name": "python3"
  },
  "language_info": {
   "codemirror_mode": {
    "name": "ipython",
    "version": 3
   },
   "file_extension": ".py",
   "mimetype": "text/x-python",
   "name": "python",
   "nbconvert_exporter": "python",
   "pygments_lexer": "ipython3",
   "version": "3.11.6"
  }
 },
 "nbformat": 4,
 "nbformat_minor": 5
}
